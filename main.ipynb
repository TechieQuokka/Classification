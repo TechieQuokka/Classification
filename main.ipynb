{
 "cells": [
  {
   "cell_type": "code",
   "execution_count": 13,
   "id": "d6b84949",
   "metadata": {},
   "outputs": [],
   "source": [
    "import torch\n",
    "import torch.nn as nn\n",
    "import torch.optim as optim\n",
    "from torch.utils.data import Dataset, DataLoader, random_split\n",
    "from torchvision import transforms, models\n",
    "from PIL import Image\n",
    "import os\n",
    "import numpy as np\n",
    "from sklearn.metrics import accuracy_score, classification_report\n",
    "import matplotlib.pyplot as plt\n",
    "from tqdm import tqdm\n",
    "import json\n",
    "import kagglehub"
   ]
  },
  {
   "cell_type": "markdown",
   "id": "6ea3880c",
   "metadata": {},
   "source": [
    "### GPU 설정"
   ]
  },
  {
   "cell_type": "code",
   "execution_count": 14,
   "id": "00af86bf",
   "metadata": {},
   "outputs": [
    {
     "name": "stdout",
     "output_type": "stream",
     "text": [
      "Using device: cuda\n"
     ]
    }
   ],
   "source": [
    "device = torch.device('cuda' if torch.cuda.is_available() else 'cpu')\n",
    "print(f\"Using device: {device}\")"
   ]
  },
  {
   "cell_type": "markdown",
   "id": "40c8901a",
   "metadata": {},
   "source": [
    "### 하이퍼파라미터 설정"
   ]
  },
  {
   "cell_type": "code",
   "execution_count": 15,
   "id": "5c85d71d",
   "metadata": {},
   "outputs": [],
   "source": [
    "BATCH_SIZE = 32\n",
    "LEARNING_RATE = 0.001\n",
    "NUM_EPOCHS = 50\n",
    "IMG_SIZE = 288  # EfficientNet-B2 권장 입력 크기\n",
    "NUM_CLASSES = 101"
   ]
  },
  {
   "cell_type": "code",
   "execution_count": 16,
   "id": "d5d9eef6",
   "metadata": {},
   "outputs": [],
   "source": [
    "class Food101Dataset(Dataset):\n",
    "    def __init__(self, root_dir, transform=None):\n",
    "        self.root_dir = root_dir\n",
    "        self.transform = transform\n",
    "        self.classes = sorted(os.listdir(root_dir))\n",
    "        self.class_to_idx = {cls_name: idx for idx, cls_name in enumerate(self.classes)}\n",
    "        \n",
    "        # 모든 이미지 경로와 라벨 수집\n",
    "        self.samples = []\n",
    "        for class_name in self.classes:\n",
    "            class_dir = os.path.join(root_dir, class_name)\n",
    "            if os.path.isdir(class_dir):\n",
    "                for img_name in os.listdir(class_dir):\n",
    "                    if img_name.lower().endswith(('.png', '.jpg', '.jpeg')):\n",
    "                        img_path = os.path.join(class_dir, img_name)\n",
    "                        self.samples.append((img_path, self.class_to_idx[class_name]))\n",
    "        \n",
    "        print(f\"Found {len(self.samples)} images in {len(self.classes)} classes\")\n",
    "    \n",
    "    def __len__(self):\n",
    "        return len(self.samples)\n",
    "    \n",
    "    def __getitem__(self, idx):\n",
    "        img_path, label = self.samples[idx]\n",
    "        \n",
    "        try:\n",
    "            image = Image.open(img_path).convert('RGB')\n",
    "            if self.transform:\n",
    "                image = self.transform(image)\n",
    "            return image, label\n",
    "        except Exception as e:\n",
    "            print(f\"Error loading image {img_path}: {e}\")\n",
    "            # 에러 발생시 첫 번째 이미지 반환\n",
    "            return self.__getitem__(0)"
   ]
  },
  {
   "cell_type": "markdown",
   "id": "cea0ad09",
   "metadata": {},
   "source": [
    "### 데이터 증강 및 전처리"
   ]
  },
  {
   "cell_type": "code",
   "execution_count": 17,
   "id": "0946db1d",
   "metadata": {},
   "outputs": [],
   "source": [
    "train_transforms = transforms.Compose([\n",
    "    transforms.Resize((IMG_SIZE, IMG_SIZE)),\n",
    "    transforms.RandomHorizontalFlip(p=0.5),\n",
    "    transforms.RandomRotation(degrees=15),\n",
    "    transforms.ColorJitter(brightness=0.2, contrast=0.2, saturation=0.2, hue=0.1),\n",
    "    transforms.RandomResizedCrop(IMG_SIZE, scale=(0.8, 1.0)),\n",
    "    transforms.ToTensor(),\n",
    "    transforms.Normalize(mean=[0.485, 0.456, 0.406], std=[0.229, 0.224, 0.225])\n",
    "])\n",
    "\n",
    "val_transforms = transforms.Compose([\n",
    "    transforms.Resize((IMG_SIZE, IMG_SIZE)),\n",
    "    transforms.ToTensor(),\n",
    "    transforms.Normalize(mean=[0.485, 0.456, 0.406], std=[0.229, 0.224, 0.225])\n",
    "])"
   ]
  },
  {
   "cell_type": "code",
   "execution_count": 18,
   "id": "0c9265db",
   "metadata": {},
   "outputs": [],
   "source": [
    "class EfficientNetB2Classifier(nn.Module):\n",
    "    def __init__(self, num_classes=101, pretrained=True):\n",
    "        super(EfficientNetB2Classifier, self).__init__()\n",
    "        \n",
    "        # EfficientNet-B2 백본 로드\n",
    "        self.backbone = models.efficientnet_b2(pretrained=pretrained)\n",
    "        \n",
    "        # 분류기 교체\n",
    "        num_features = self.backbone.classifier[1].in_features\n",
    "        self.backbone.classifier = nn.Sequential(\n",
    "            nn.Dropout(0.3),\n",
    "            nn.Linear(num_features, 512),\n",
    "            nn.ReLU(),\n",
    "            nn.Dropout(0.2),\n",
    "            nn.Linear(512, num_classes)\n",
    "        )\n",
    "    \n",
    "    def forward(self, x):\n",
    "        return self.backbone(x)"
   ]
  },
  {
   "cell_type": "code",
   "execution_count": 19,
   "id": "72ea4f74",
   "metadata": {},
   "outputs": [],
   "source": [
    "def create_data_loaders(data_dir):\n",
    "    \"\"\"데이터 로더 생성 및 train/val/test 분할\"\"\"\n",
    "    \n",
    "    # 전체 데이터셋 로드\n",
    "    full_dataset = Food101Dataset(data_dir, transform=train_transforms)\n",
    "    \n",
    "    # 클래스 정보 저장\n",
    "    class_names = full_dataset.classes\n",
    "    with open('class_names.json', 'w') as f:\n",
    "        json.dump(class_names, f)\n",
    "    \n",
    "    # 데이터 분할 (70% train, 15% val, 15% test)\n",
    "    total_size = len(full_dataset)\n",
    "    train_size = int(0.7 * total_size)\n",
    "    val_size = int(0.15 * total_size)\n",
    "    test_size = total_size - train_size - val_size\n",
    "    \n",
    "    train_dataset, val_dataset, test_dataset = random_split(\n",
    "        full_dataset, [train_size, val_size, test_size]\n",
    "    )\n",
    "    \n",
    "    # Validation과 Test 데이터셋에 다른 transform 적용\n",
    "    val_dataset.dataset.transform = val_transforms\n",
    "    test_dataset.dataset.transform = val_transforms\n",
    "    \n",
    "    # 데이터 로더 생성\n",
    "    train_loader = DataLoader(train_dataset, batch_size=BATCH_SIZE, shuffle=True, num_workers=4)\n",
    "    val_loader = DataLoader(val_dataset, batch_size=BATCH_SIZE, shuffle=False, num_workers=4)\n",
    "    test_loader = DataLoader(test_dataset, batch_size=BATCH_SIZE, shuffle=False, num_workers=4)\n",
    "    \n",
    "    print(f\"Train: {len(train_dataset)}, Val: {len(val_dataset)}, Test: {len(test_dataset)}\")\n",
    "    \n",
    "    return train_loader, val_loader, test_loader, class_names"
   ]
  },
  {
   "cell_type": "code",
   "execution_count": 20,
   "id": "4d9cfec3",
   "metadata": {},
   "outputs": [],
   "source": [
    "def train_model(model, train_loader, val_loader, num_epochs=NUM_EPOCHS):\n",
    "    \"\"\"모델 훈련\"\"\"\n",
    "    \n",
    "    criterion = nn.CrossEntropyLoss()\n",
    "    optimizer = optim.AdamW(model.parameters(), lr=LEARNING_RATE, weight_decay=0.01)\n",
    "    scheduler = optim.lr_scheduler.ReduceLROnPlateau(optimizer, mode='min', patience=5, factor=0.5)\n",
    "    \n",
    "    # Mixed precision training\n",
    "    scaler = torch.cuda.amp.GradScaler()\n",
    "    \n",
    "    train_losses = []\n",
    "    val_losses = []\n",
    "    val_accuracies = []\n",
    "    \n",
    "    best_val_acc = 0.0\n",
    "    # Early Stopping 설정\n",
    "    patience = 5\n",
    "    patience_counter = 0\n",
    "    \n",
    "    for epoch in range(num_epochs):\n",
    "        # Training phase\n",
    "        model.train()\n",
    "        train_loss = 0.0\n",
    "        \n",
    "        train_pbar = tqdm(train_loader, desc=f'Epoch {epoch+1}/{num_epochs} [Train]')\n",
    "        for batch_idx, (data, target) in enumerate(train_pbar):\n",
    "            data, target = data.to(device), target.to(device)\n",
    "            \n",
    "            optimizer.zero_grad()\n",
    "            \n",
    "            # Mixed precision forward pass\n",
    "            with torch.cuda.amp.autocast():\n",
    "                output = model(data)\n",
    "                loss = criterion(output, target)\n",
    "            \n",
    "            # Mixed precision backward pass\n",
    "            scaler.scale(loss).backward()\n",
    "            scaler.step(optimizer)\n",
    "            scaler.update()\n",
    "            \n",
    "            train_loss += loss.item()\n",
    "            train_pbar.set_postfix({'Loss': f'{loss.item():.4f}'})\n",
    "        \n",
    "        avg_train_loss = train_loss / len(train_loader)\n",
    "        train_losses.append(avg_train_loss)\n",
    "        \n",
    "        # Validation phase\n",
    "        model.eval()\n",
    "        val_loss = 0.0\n",
    "        correct = 0\n",
    "        total = 0\n",
    "        \n",
    "        with torch.no_grad():\n",
    "            val_pbar = tqdm(val_loader, desc=f'Epoch {epoch+1}/{num_epochs} [Val]')\n",
    "            for data, target in val_pbar:\n",
    "                data, target = data.to(device), target.to(device)\n",
    "                \n",
    "                with torch.cuda.amp.autocast():\n",
    "                    output = model(data)\n",
    "                    loss = criterion(output, target)\n",
    "                \n",
    "                val_loss += loss.item()\n",
    "                _, predicted = output.max(1)\n",
    "                total += target.size(0)\n",
    "                correct += predicted.eq(target).sum().item()\n",
    "                \n",
    "                val_pbar.set_postfix({\n",
    "                    'Loss': f'{loss.item():.4f}',\n",
    "                    'Acc': f'{100.*correct/total:.2f}%'\n",
    "                })\n",
    "        \n",
    "        avg_val_loss = val_loss / len(val_loader)\n",
    "        val_acc = 100. * correct / total\n",
    "        \n",
    "        val_losses.append(avg_val_loss)\n",
    "        val_accuracies.append(val_acc)\n",
    "        \n",
    "        # Learning rate scheduling\n",
    "        scheduler.step(avg_val_loss)\n",
    "        \n",
    "        print(f'Epoch {epoch+1}/{num_epochs}:')\n",
    "        print(f'  Train Loss: {avg_train_loss:.4f}')\n",
    "        print(f'  Val Loss: {avg_val_loss:.4f}')\n",
    "        print(f'  Val Accuracy: {val_acc:.2f}%')\n",
    "        print(f'  Learning Rate: {optimizer.param_groups[0][\"lr\"]:.6f}')\n",
    "        print('-' * 50)\n",
    "        \n",
    "        # 최고 성능 모델 저장\n",
    "        if val_acc > best_val_acc:\n",
    "            best_val_acc = val_acc\n",
    "            patience_counter = 0  # 성능 향상 시 카운터 리셋\n",
    "            torch.save({\n",
    "                'epoch': epoch,\n",
    "                'model_state_dict': model.state_dict(),\n",
    "                'optimizer_state_dict': optimizer.state_dict(),\n",
    "                'val_acc': val_acc,\n",
    "                'val_loss': avg_val_loss\n",
    "            }, 'best_food101_efficientnet_b2.pth')\n",
    "            print(f'  New best model saved! (Val Acc: {val_acc:.2f}%)')\n",
    "        else:\n",
    "            patience_counter += 1\n",
    "            print(f'  No improvement ({patience_counter}/{patience})')\n",
    "        \n",
    "        # Early Stopping 체크\n",
    "        if patience_counter >= patience:\n",
    "            print(f'Early stopping triggered after {epoch+1} epochs')\n",
    "            break\n",
    "    \n",
    "    return train_losses, val_losses, val_accuracies"
   ]
  },
  {
   "cell_type": "code",
   "execution_count": 21,
   "id": "d338dd30",
   "metadata": {},
   "outputs": [],
   "source": [
    "def evaluate_model(model, test_loader, class_names):\n",
    "    \"\"\"모델 평가\"\"\"\n",
    "    model.eval()\n",
    "    all_preds = []\n",
    "    all_targets = []\n",
    "    \n",
    "    with torch.no_grad():\n",
    "        test_pbar = tqdm(test_loader, desc='Testing')\n",
    "        for data, target in test_pbar:\n",
    "            data, target = data.to(device), target.to(device)\n",
    "            \n",
    "            with torch.cuda.amp.autocast():\n",
    "                output = model(data)\n",
    "            \n",
    "            _, predicted = output.max(1)\n",
    "            all_preds.extend(predicted.cpu().numpy())\n",
    "            all_targets.extend(target.cpu().numpy())\n",
    "    \n",
    "    # 정확도 계산\n",
    "    test_acc = accuracy_score(all_targets, all_preds)\n",
    "    print(f'\\nTest Accuracy: {test_acc*100:.2f}%')\n",
    "    \n",
    "    # 분류 리포트\n",
    "    report = classification_report(all_targets, all_preds, target_names=class_names, output_dict=True)\n",
    "    print('\\nClassification Report:')\n",
    "    print(classification_report(all_targets, all_preds, target_names=class_names))\n",
    "    \n",
    "    return test_acc, report"
   ]
  },
  {
   "cell_type": "code",
   "execution_count": 22,
   "id": "1d671247",
   "metadata": {},
   "outputs": [],
   "source": [
    "def plot_training_history(train_losses, val_losses, val_accuracies):\n",
    "    \"\"\"훈련 과정 시각화\"\"\"\n",
    "    fig, (ax1, ax2) = plt.subplots(1, 2, figsize=(15, 5))\n",
    "    \n",
    "    # Loss plot\n",
    "    ax1.plot(train_losses, label='Train Loss', color='blue')\n",
    "    ax1.plot(val_losses, label='Val Loss', color='red')\n",
    "    ax1.set_title('Training and Validation Loss')\n",
    "    ax1.set_xlabel('Epoch')\n",
    "    ax1.set_ylabel('Loss')\n",
    "    ax1.legend()\n",
    "    ax1.grid(True)\n",
    "    \n",
    "    # Accuracy plot\n",
    "    ax2.plot(val_accuracies, label='Val Accuracy', color='green')\n",
    "    ax2.set_title('Validation Accuracy')\n",
    "    ax2.set_xlabel('Epoch')\n",
    "    ax2.set_ylabel('Accuracy (%)')\n",
    "    ax2.legend()\n",
    "    ax2.grid(True)\n",
    "    \n",
    "    plt.tight_layout()\n",
    "    plt.savefig('training_history.png', dpi=300, bbox_inches='tight')\n",
    "    plt.show()"
   ]
  },
  {
   "cell_type": "code",
   "execution_count": 23,
   "id": "bc3005e4",
   "metadata": {},
   "outputs": [],
   "source": [
    "def main():\n",
    "    \"\"\"메인 실행 함수\"\"\"\n",
    "    \n",
    "    # Kaggle 데이터셋 다운로드\n",
    "    print(\"Downloading Food-101 dataset from Kaggle...\")\n",
    "    path = kagglehub.dataset_download(\"kmader/food41\")\n",
    "    print(\"Path to dataset files:\", path)\n",
    "    \n",
    "    # images 폴더 경로 설정\n",
    "    data_dir = os.path.join(path, \"images\")\n",
    "    \n",
    "    # 데이터 디렉토리 확인\n",
    "    if not os.path.exists(data_dir):\n",
    "        print(f\"Images directory not found at {data_dir}\")\n",
    "        print(\"Available directories:\")\n",
    "        for item in os.listdir(path):\n",
    "            item_path = os.path.join(path, item)\n",
    "            if os.path.isdir(item_path):\n",
    "                print(f\"  - {item}\")\n",
    "        return\n",
    "    \n",
    "    print(f\"Using data directory: {data_dir}\")\n",
    "    print(\"Creating data loaders...\")\n",
    "    train_loader, val_loader, test_loader, class_names = create_data_loaders(data_dir)\n",
    "    \n",
    "    print(\"Initializing model...\")\n",
    "    model = EfficientNetB2Classifier(num_classes=NUM_CLASSES, pretrained=True)\n",
    "    model = model.to(device)\n",
    "    \n",
    "    # 모델 파라미터 수 출력\n",
    "    total_params = sum(p.numel() for p in model.parameters())\n",
    "    trainable_params = sum(p.numel() for p in model.parameters() if p.requires_grad)\n",
    "    print(f\"Total parameters: {total_params:,}\")\n",
    "    print(f\"Trainable parameters: {trainable_params:,}\")\n",
    "    \n",
    "    print(\"Starting training...\")\n",
    "    train_losses, val_losses, val_accuracies = train_model(model, train_loader, val_loader)\n",
    "    \n",
    "    print(\"Loading best model for testing...\")\n",
    "    checkpoint = torch.load('best_food101_efficientnet_b2.pth')\n",
    "    model.load_state_dict(checkpoint['model_state_dict'])\n",
    "    \n",
    "    print(\"Evaluating on test set...\")\n",
    "    test_acc, report = evaluate_model(model, test_loader, class_names)\n",
    "    \n",
    "    print(\"Plotting training history...\")\n",
    "    plot_training_history(train_losses, val_losses, val_accuracies)\n",
    "    \n",
    "    print(f\"\\nTraining completed!\")\n",
    "    print(f\"Best validation accuracy: {max(val_accuracies):.2f}%\")\n",
    "    print(f\"Test accuracy: {test_acc*100:.2f}%\")"
   ]
  },
  {
   "cell_type": "code",
   "execution_count": 24,
   "id": "6be9fd7e",
   "metadata": {},
   "outputs": [
    {
     "name": "stdout",
     "output_type": "stream",
     "text": [
      "Downloading Food-101 dataset from Kaggle...\n"
     ]
    },
    {
     "name": "stdout",
     "output_type": "stream",
     "text": [
      "Path to dataset files: /home/beethoven/.cache/kagglehub/datasets/kmader/food41/versions/5\n",
      "Using data directory: /home/beethoven/.cache/kagglehub/datasets/kmader/food41/versions/5/images\n",
      "Creating data loaders...\n",
      "Found 101000 images in 101 classes\n",
      "Train: 70700, Val: 15150, Test: 15150\n",
      "Initializing model...\n"
     ]
    },
    {
     "name": "stderr",
     "output_type": "stream",
     "text": [
      "/tmp/ipykernel_19013/1090254390.py:9: FutureWarning: `torch.cuda.amp.GradScaler(args...)` is deprecated. Please use `torch.amp.GradScaler('cuda', args...)` instead.\n",
      "  scaler = torch.cuda.amp.GradScaler()\n"
     ]
    },
    {
     "name": "stdout",
     "output_type": "stream",
     "text": [
      "Total parameters: 8,474,215\n",
      "Trainable parameters: 8,474,215\n",
      "Starting training...\n"
     ]
    },
    {
     "name": "stderr",
     "output_type": "stream",
     "text": [
      "Epoch 1/50 [Train]:   0%|          | 0/2210 [00:00<?, ?it/s]/tmp/ipykernel_19013/1090254390.py:32: FutureWarning: `torch.cuda.amp.autocast(args...)` is deprecated. Please use `torch.amp.autocast('cuda', args...)` instead.\n",
      "  with torch.cuda.amp.autocast():\n",
      "Epoch 1/50 [Train]: 100%|██████████| 2210/2210 [06:33<00:00,  5.61it/s, Loss=1.4386]\n",
      "Epoch 1/50 [Val]:   0%|          | 0/474 [00:00<?, ?it/s]/tmp/ipykernel_19013/1090254390.py:58: FutureWarning: `torch.cuda.amp.autocast(args...)` is deprecated. Please use `torch.amp.autocast('cuda', args...)` instead.\n",
      "  with torch.cuda.amp.autocast():\n",
      "Epoch 1/50 [Val]: 100%|██████████| 474/474 [00:41<00:00, 11.34it/s, Loss=0.8980, Acc=66.12%]\n"
     ]
    },
    {
     "name": "stdout",
     "output_type": "stream",
     "text": [
      "Epoch 1/50:\n",
      "  Train Loss: 1.9188\n",
      "  Val Loss: 1.2823\n",
      "  Val Accuracy: 66.12%\n",
      "  Learning Rate: 0.001000\n",
      "--------------------------------------------------\n",
      "  New best model saved! (Val Acc: 66.12%)\n"
     ]
    },
    {
     "name": "stderr",
     "output_type": "stream",
     "text": [
      "Epoch 2/50 [Train]: 100%|██████████| 2210/2210 [06:22<00:00,  5.78it/s, Loss=1.9159]\n",
      "Epoch 2/50 [Val]: 100%|██████████| 474/474 [00:39<00:00, 11.93it/s, Loss=0.7530, Acc=70.33%]\n"
     ]
    },
    {
     "name": "stdout",
     "output_type": "stream",
     "text": [
      "Epoch 2/50:\n",
      "  Train Loss: 1.2422\n",
      "  Val Loss: 1.1444\n",
      "  Val Accuracy: 70.33%\n",
      "  Learning Rate: 0.001000\n",
      "--------------------------------------------------\n",
      "  New best model saved! (Val Acc: 70.33%)\n"
     ]
    },
    {
     "name": "stderr",
     "output_type": "stream",
     "text": [
      "Epoch 3/50 [Train]: 100%|██████████| 2210/2210 [06:30<00:00,  5.66it/s, Loss=1.9285]\n",
      "Epoch 3/50 [Val]: 100%|██████████| 474/474 [00:39<00:00, 11.87it/s, Loss=0.6216, Acc=72.88%]\n"
     ]
    },
    {
     "name": "stdout",
     "output_type": "stream",
     "text": [
      "Epoch 3/50:\n",
      "  Train Loss: 1.0414\n",
      "  Val Loss: 1.0715\n",
      "  Val Accuracy: 72.88%\n",
      "  Learning Rate: 0.001000\n",
      "--------------------------------------------------\n",
      "  New best model saved! (Val Acc: 72.88%)\n"
     ]
    },
    {
     "name": "stderr",
     "output_type": "stream",
     "text": [
      "Epoch 4/50 [Train]: 100%|██████████| 2210/2210 [06:28<00:00,  5.69it/s, Loss=0.8363]\n",
      "Epoch 4/50 [Val]: 100%|██████████| 474/474 [00:39<00:00, 11.87it/s, Loss=0.8938, Acc=73.94%]\n"
     ]
    },
    {
     "name": "stdout",
     "output_type": "stream",
     "text": [
      "Epoch 4/50:\n",
      "  Train Loss: 0.9118\n",
      "  Val Loss: 1.0254\n",
      "  Val Accuracy: 73.94%\n",
      "  Learning Rate: 0.001000\n",
      "--------------------------------------------------\n",
      "  New best model saved! (Val Acc: 73.94%)\n"
     ]
    },
    {
     "name": "stderr",
     "output_type": "stream",
     "text": [
      "Epoch 5/50 [Train]: 100%|██████████| 2210/2210 [06:25<00:00,  5.73it/s, Loss=1.8803]\n",
      "Epoch 5/50 [Val]: 100%|██████████| 474/474 [00:40<00:00, 11.84it/s, Loss=0.7387, Acc=74.26%]\n"
     ]
    },
    {
     "name": "stdout",
     "output_type": "stream",
     "text": [
      "Epoch 5/50:\n",
      "  Train Loss: 0.8253\n",
      "  Val Loss: 1.0465\n",
      "  Val Accuracy: 74.26%\n",
      "  Learning Rate: 0.001000\n",
      "--------------------------------------------------\n",
      "  New best model saved! (Val Acc: 74.26%)\n"
     ]
    },
    {
     "name": "stderr",
     "output_type": "stream",
     "text": [
      "Epoch 6/50 [Train]: 100%|██████████| 2210/2210 [06:52<00:00,  5.36it/s, Loss=0.5941]\n",
      "Epoch 6/50 [Val]: 100%|██████████| 474/474 [00:47<00:00,  9.96it/s, Loss=0.3271, Acc=74.65%]\n"
     ]
    },
    {
     "name": "stdout",
     "output_type": "stream",
     "text": [
      "Epoch 6/50:\n",
      "  Train Loss: 0.7396\n",
      "  Val Loss: 1.0451\n",
      "  Val Accuracy: 74.65%\n",
      "  Learning Rate: 0.001000\n",
      "--------------------------------------------------\n",
      "  New best model saved! (Val Acc: 74.65%)\n"
     ]
    },
    {
     "name": "stderr",
     "output_type": "stream",
     "text": [
      "Epoch 7/50 [Train]: 100%|██████████| 2210/2210 [07:13<00:00,  5.10it/s, Loss=0.2899]\n",
      "Epoch 7/50 [Val]: 100%|██████████| 474/474 [00:45<00:00, 10.35it/s, Loss=0.2576, Acc=75.23%]\n"
     ]
    },
    {
     "name": "stdout",
     "output_type": "stream",
     "text": [
      "Epoch 7/50:\n",
      "  Train Loss: 0.6831\n",
      "  Val Loss: 1.0164\n",
      "  Val Accuracy: 75.23%\n",
      "  Learning Rate: 0.001000\n",
      "--------------------------------------------------\n",
      "  New best model saved! (Val Acc: 75.23%)\n"
     ]
    },
    {
     "name": "stderr",
     "output_type": "stream",
     "text": [
      "Epoch 8/50 [Train]: 100%|██████████| 2210/2210 [07:00<00:00,  5.25it/s, Loss=0.5097]\n",
      "Epoch 8/50 [Val]: 100%|██████████| 474/474 [00:41<00:00, 11.45it/s, Loss=0.2713, Acc=75.08%]\n"
     ]
    },
    {
     "name": "stdout",
     "output_type": "stream",
     "text": [
      "Epoch 8/50:\n",
      "  Train Loss: 0.6264\n",
      "  Val Loss: 1.0051\n",
      "  Val Accuracy: 75.08%\n",
      "  Learning Rate: 0.001000\n",
      "--------------------------------------------------\n",
      "  No improvement (1/5)\n"
     ]
    },
    {
     "name": "stderr",
     "output_type": "stream",
     "text": [
      "Epoch 9/50 [Train]: 100%|██████████| 2210/2210 [06:55<00:00,  5.31it/s, Loss=0.8080]\n",
      "Epoch 9/50 [Val]: 100%|██████████| 474/474 [00:46<00:00, 10.30it/s, Loss=0.4530, Acc=75.77%]\n"
     ]
    },
    {
     "name": "stdout",
     "output_type": "stream",
     "text": [
      "Epoch 9/50:\n",
      "  Train Loss: 0.5832\n",
      "  Val Loss: 1.0301\n",
      "  Val Accuracy: 75.77%\n",
      "  Learning Rate: 0.001000\n",
      "--------------------------------------------------\n",
      "  New best model saved! (Val Acc: 75.77%)\n"
     ]
    },
    {
     "name": "stderr",
     "output_type": "stream",
     "text": [
      "Epoch 10/50 [Train]: 100%|██████████| 2210/2210 [07:02<00:00,  5.23it/s, Loss=1.5304]\n",
      "Epoch 10/50 [Val]: 100%|██████████| 474/474 [00:48<00:00,  9.86it/s, Loss=0.0984, Acc=75.29%]\n"
     ]
    },
    {
     "name": "stdout",
     "output_type": "stream",
     "text": [
      "Epoch 10/50:\n",
      "  Train Loss: 0.5417\n",
      "  Val Loss: 1.0387\n",
      "  Val Accuracy: 75.29%\n",
      "  Learning Rate: 0.001000\n",
      "--------------------------------------------------\n",
      "  No improvement (1/5)\n"
     ]
    },
    {
     "name": "stderr",
     "output_type": "stream",
     "text": [
      "Epoch 11/50 [Train]: 100%|██████████| 2210/2210 [07:02<00:00,  5.23it/s, Loss=0.3952]\n",
      "Epoch 11/50 [Val]: 100%|██████████| 474/474 [00:43<00:00, 10.86it/s, Loss=0.5186, Acc=74.84%]\n"
     ]
    },
    {
     "name": "stdout",
     "output_type": "stream",
     "text": [
      "Epoch 11/50:\n",
      "  Train Loss: 0.5157\n",
      "  Val Loss: 1.0512\n",
      "  Val Accuracy: 74.84%\n",
      "  Learning Rate: 0.001000\n",
      "--------------------------------------------------\n",
      "  No improvement (2/5)\n"
     ]
    },
    {
     "name": "stderr",
     "output_type": "stream",
     "text": [
      "Epoch 12/50 [Train]: 100%|██████████| 2210/2210 [06:22<00:00,  5.77it/s, Loss=0.2492]\n",
      "Epoch 12/50 [Val]: 100%|██████████| 474/474 [00:40<00:00, 11.84it/s, Loss=0.7070, Acc=75.67%]\n"
     ]
    },
    {
     "name": "stdout",
     "output_type": "stream",
     "text": [
      "Epoch 12/50:\n",
      "  Train Loss: 0.4827\n",
      "  Val Loss: 1.0833\n",
      "  Val Accuracy: 75.67%\n",
      "  Learning Rate: 0.001000\n",
      "--------------------------------------------------\n",
      "  No improvement (3/5)\n"
     ]
    },
    {
     "name": "stderr",
     "output_type": "stream",
     "text": [
      "Epoch 13/50 [Train]: 100%|██████████| 2210/2210 [06:38<00:00,  5.54it/s, Loss=0.5704]\n",
      "Epoch 13/50 [Val]: 100%|██████████| 474/474 [00:41<00:00, 11.37it/s, Loss=0.4916, Acc=76.10%]\n"
     ]
    },
    {
     "name": "stdout",
     "output_type": "stream",
     "text": [
      "Epoch 13/50:\n",
      "  Train Loss: 0.4555\n",
      "  Val Loss: 1.1117\n",
      "  Val Accuracy: 76.10%\n",
      "  Learning Rate: 0.001000\n",
      "--------------------------------------------------\n",
      "  New best model saved! (Val Acc: 76.10%)\n"
     ]
    },
    {
     "name": "stderr",
     "output_type": "stream",
     "text": [
      "Epoch 14/50 [Train]: 100%|██████████| 2210/2210 [06:38<00:00,  5.55it/s, Loss=0.8144]\n",
      "Epoch 14/50 [Val]: 100%|██████████| 474/474 [00:43<00:00, 10.96it/s, Loss=1.0728, Acc=73.94%]\n"
     ]
    },
    {
     "name": "stdout",
     "output_type": "stream",
     "text": [
      "Epoch 14/50:\n",
      "  Train Loss: 0.4404\n",
      "  Val Loss: 1.1800\n",
      "  Val Accuracy: 73.94%\n",
      "  Learning Rate: 0.000500\n",
      "--------------------------------------------------\n",
      "  No improvement (1/5)\n"
     ]
    },
    {
     "name": "stderr",
     "output_type": "stream",
     "text": [
      "Epoch 15/50 [Train]: 100%|██████████| 2210/2210 [06:53<00:00,  5.35it/s, Loss=0.4572]\n",
      "Epoch 15/50 [Val]: 100%|██████████| 474/474 [00:41<00:00, 11.37it/s, Loss=0.9689, Acc=78.42%]\n"
     ]
    },
    {
     "name": "stdout",
     "output_type": "stream",
     "text": [
      "Epoch 15/50:\n",
      "  Train Loss: 0.2183\n",
      "  Val Loss: 1.0440\n",
      "  Val Accuracy: 78.42%\n",
      "  Learning Rate: 0.000500\n",
      "--------------------------------------------------\n",
      "  New best model saved! (Val Acc: 78.42%)\n"
     ]
    },
    {
     "name": "stderr",
     "output_type": "stream",
     "text": [
      "Epoch 16/50 [Train]: 100%|██████████| 2210/2210 [06:39<00:00,  5.54it/s, Loss=0.0905]\n",
      "Epoch 16/50 [Val]: 100%|██████████| 474/474 [00:40<00:00, 11.62it/s, Loss=1.4733, Acc=78.20%]\n"
     ]
    },
    {
     "name": "stdout",
     "output_type": "stream",
     "text": [
      "Epoch 16/50:\n",
      "  Train Loss: 0.1574\n",
      "  Val Loss: 1.1703\n",
      "  Val Accuracy: 78.20%\n",
      "  Learning Rate: 0.000500\n",
      "--------------------------------------------------\n",
      "  No improvement (1/5)\n"
     ]
    },
    {
     "name": "stderr",
     "output_type": "stream",
     "text": [
      "Epoch 17/50 [Train]: 100%|██████████| 2210/2210 [07:17<00:00,  5.05it/s, Loss=0.6522]\n",
      "Epoch 17/50 [Val]: 100%|██████████| 474/474 [00:50<00:00,  9.41it/s, Loss=1.5695, Acc=77.84%]\n"
     ]
    },
    {
     "name": "stdout",
     "output_type": "stream",
     "text": [
      "Epoch 17/50:\n",
      "  Train Loss: 0.1522\n",
      "  Val Loss: 1.2054\n",
      "  Val Accuracy: 77.84%\n",
      "  Learning Rate: 0.000500\n",
      "--------------------------------------------------\n",
      "  No improvement (2/5)\n"
     ]
    },
    {
     "name": "stderr",
     "output_type": "stream",
     "text": [
      "Epoch 18/50 [Train]: 100%|██████████| 2210/2210 [07:16<00:00,  5.07it/s, Loss=0.0361]\n",
      "Epoch 18/50 [Val]: 100%|██████████| 474/474 [00:50<00:00,  9.34it/s, Loss=0.7248, Acc=78.08%]\n"
     ]
    },
    {
     "name": "stdout",
     "output_type": "stream",
     "text": [
      "Epoch 18/50:\n",
      "  Train Loss: 0.1367\n",
      "  Val Loss: 1.1690\n",
      "  Val Accuracy: 78.08%\n",
      "  Learning Rate: 0.000500\n",
      "--------------------------------------------------\n",
      "  No improvement (3/5)\n"
     ]
    },
    {
     "name": "stderr",
     "output_type": "stream",
     "text": [
      "Epoch 19/50 [Train]: 100%|██████████| 2210/2210 [07:52<00:00,  4.67it/s, Loss=0.9967]\n",
      "Epoch 19/50 [Val]: 100%|██████████| 474/474 [00:53<00:00,  8.80it/s, Loss=0.2986, Acc=77.75%]\n"
     ]
    },
    {
     "name": "stdout",
     "output_type": "stream",
     "text": [
      "Epoch 19/50:\n",
      "  Train Loss: 0.1289\n",
      "  Val Loss: 1.2243\n",
      "  Val Accuracy: 77.75%\n",
      "  Learning Rate: 0.000500\n",
      "--------------------------------------------------\n",
      "  No improvement (4/5)\n"
     ]
    },
    {
     "name": "stderr",
     "output_type": "stream",
     "text": [
      "Epoch 20/50 [Train]: 100%|██████████| 2210/2210 [07:12<00:00,  5.11it/s, Loss=0.0937]\n",
      "Epoch 20/50 [Val]: 100%|██████████| 474/474 [00:54<00:00,  8.66it/s, Loss=0.4272, Acc=77.79%]\n"
     ]
    },
    {
     "name": "stdout",
     "output_type": "stream",
     "text": [
      "Epoch 20/50:\n",
      "  Train Loss: 0.1295\n",
      "  Val Loss: 1.2282\n",
      "  Val Accuracy: 77.79%\n",
      "  Learning Rate: 0.000250\n",
      "--------------------------------------------------\n",
      "  No improvement (5/5)\n",
      "Early stopping triggered after 20 epochs\n",
      "Loading best model for testing...\n",
      "Evaluating on test set...\n"
     ]
    },
    {
     "name": "stderr",
     "output_type": "stream",
     "text": [
      "Testing:   0%|          | 0/474 [00:00<?, ?it/s]/tmp/ipykernel_19013/2412653460.py:12: FutureWarning: `torch.cuda.amp.autocast(args...)` is deprecated. Please use `torch.amp.autocast('cuda', args...)` instead.\n",
      "  with torch.cuda.amp.autocast():\n",
      "Testing: 100%|██████████| 474/474 [00:49<00:00,  9.59it/s]\n"
     ]
    },
    {
     "name": "stdout",
     "output_type": "stream",
     "text": [
      "\n",
      "Test Accuracy: 78.60%\n",
      "\n",
      "Classification Report:\n",
      "                         precision    recall  f1-score   support\n",
      "\n",
      "              apple_pie       0.65      0.61      0.63       152\n",
      "         baby_back_ribs       0.79      0.76      0.77       147\n",
      "                baklava       0.92      0.78      0.85       162\n",
      "         beef_carpaccio       0.82      0.85      0.84       154\n",
      "           beef_tartare       0.78      0.82      0.80       138\n",
      "             beet_salad       0.76      0.72      0.74       172\n",
      "               beignets       0.89      0.87      0.88       164\n",
      "               bibimbap       0.90      0.91      0.91       152\n",
      "          bread_pudding       0.59      0.58      0.59       124\n",
      "      breakfast_burrito       0.72      0.71      0.71       132\n",
      "             bruschetta       0.65      0.73      0.68       140\n",
      "           caesar_salad       0.89      0.81      0.84       154\n",
      "                cannoli       0.81      0.86      0.83       149\n",
      "          caprese_salad       0.82      0.77      0.80       147\n",
      "            carrot_cake       0.75      0.76      0.75       159\n",
      "                ceviche       0.70      0.70      0.70       153\n",
      "           cheese_plate       0.92      0.82      0.86       175\n",
      "             cheesecake       0.65      0.66      0.66       170\n",
      "          chicken_curry       0.86      0.67      0.75       159\n",
      "     chicken_quesadilla       0.70      0.84      0.77       146\n",
      "          chicken_wings       0.82      0.84      0.83       160\n",
      "         chocolate_cake       0.62      0.72      0.66       141\n",
      "       chocolate_mousse       0.54      0.52      0.53       157\n",
      "                churros       0.84      0.84      0.84       175\n",
      "           clam_chowder       0.86      0.78      0.82       140\n",
      "          club_sandwich       0.76      0.88      0.81       132\n",
      "             crab_cakes       0.62      0.76      0.68       139\n",
      "           creme_brulee       0.89      0.82      0.86       153\n",
      "          croque_madame       0.83      0.84      0.83       153\n",
      "              cup_cakes       0.71      0.78      0.75       158\n",
      "           deviled_eggs       0.88      0.95      0.91       140\n",
      "                 donuts       0.88      0.55      0.68       150\n",
      "              dumplings       0.80      0.84      0.82       131\n",
      "                edamame       0.98      0.96      0.97       166\n",
      "          eggs_benedict       0.86      0.88      0.87       137\n",
      "              escargots       0.87      0.82      0.84       154\n",
      "                falafel       0.74      0.82      0.78       152\n",
      "           filet_mignon       0.52      0.65      0.57       141\n",
      "         fish_and_chips       0.84      0.91      0.87       145\n",
      "              foie_gras       0.67      0.59      0.63       153\n",
      "           french_fries       0.89      0.89      0.89       142\n",
      "      french_onion_soup       0.84      0.78      0.81       163\n",
      "           french_toast       0.71      0.71      0.71       163\n",
      "         fried_calamari       0.89      0.77      0.82       151\n",
      "             fried_rice       0.74      0.86      0.80       146\n",
      "          frozen_yogurt       0.77      0.87      0.82       146\n",
      "           garlic_bread       0.80      0.77      0.79       159\n",
      "                gnocchi       0.73      0.69      0.71       144\n",
      "            greek_salad       0.82      0.84      0.83       161\n",
      "grilled_cheese_sandwich       0.78      0.64      0.70       139\n",
      "         grilled_salmon       0.61      0.79      0.69       143\n",
      "              guacamole       0.91      0.85      0.88       150\n",
      "                  gyoza       0.88      0.79      0.83       145\n",
      "              hamburger       0.75      0.77      0.76       163\n",
      "      hot_and_sour_soup       0.91      0.93      0.92       147\n",
      "                hot_dog       0.73      0.79      0.76       158\n",
      "       huevos_rancheros       0.62      0.73      0.67       123\n",
      "                 hummus       0.78      0.74      0.76       145\n",
      "              ice_cream       0.62      0.62      0.62       127\n",
      "                lasagna       0.73      0.71      0.72       147\n",
      "         lobster_bisque       0.81      0.87      0.84       150\n",
      "  lobster_roll_sandwich       0.88      0.88      0.88       153\n",
      "    macaroni_and_cheese       0.82      0.81      0.81       154\n",
      "               macarons       0.87      0.89      0.88       148\n",
      "              miso_soup       0.91      0.92      0.92       151\n",
      "                mussels       0.94      0.87      0.90       161\n",
      "                 nachos       0.82      0.82      0.82       167\n",
      "               omelette       0.78      0.70      0.74       142\n",
      "            onion_rings       0.83      0.86      0.85       153\n",
      "                oysters       0.94      0.91      0.93       151\n",
      "               pad_thai       0.87      0.88      0.88       142\n",
      "                 paella       0.79      0.83      0.81       145\n",
      "               pancakes       0.81      0.77      0.79       160\n",
      "            panna_cotta       0.78      0.79      0.79       175\n",
      "            peking_duck       0.83      0.80      0.81       157\n",
      "                    pho       0.91      0.89      0.90       136\n",
      "                  pizza       0.87      0.87      0.87       152\n",
      "              pork_chop       0.53      0.55      0.54       139\n",
      "                poutine       0.81      0.87      0.84       142\n",
      "              prime_rib       0.73      0.77      0.75       167\n",
      "   pulled_pork_sandwich       0.80      0.76      0.78       150\n",
      "                  ramen       0.90      0.79      0.84       156\n",
      "                ravioli       0.66      0.78      0.71       159\n",
      "        red_velvet_cake       0.86      0.81      0.83       161\n",
      "                risotto       0.67      0.75      0.71       138\n",
      "                 samosa       0.85      0.78      0.81       148\n",
      "                sashimi       0.85      0.89      0.87       121\n",
      "               scallops       0.75      0.66      0.70       150\n",
      "          seaweed_salad       0.92      0.92      0.92       140\n",
      "       shrimp_and_grits       0.83      0.75      0.79       159\n",
      "    spaghetti_bolognese       0.92      0.90      0.91       142\n",
      "    spaghetti_carbonara       0.87      0.95      0.91       168\n",
      "           spring_rolls       0.84      0.78      0.81       158\n",
      "                  steak       0.45      0.44      0.44       153\n",
      "   strawberry_shortcake       0.80      0.77      0.78       164\n",
      "                  sushi       0.78      0.81      0.80       143\n",
      "                  tacos       0.64      0.72      0.68       142\n",
      "               takoyaki       0.75      0.91      0.82       138\n",
      "               tiramisu       0.76      0.71      0.74       136\n",
      "           tuna_tartare       0.74      0.61      0.67       155\n",
      "                waffles       0.90      0.79      0.84       136\n",
      "\n",
      "               accuracy                           0.79     15150\n",
      "              macro avg       0.79      0.79      0.79     15150\n",
      "           weighted avg       0.79      0.79      0.79     15150\n",
      "\n",
      "Plotting training history...\n"
     ]
    },
    {
     "data": {
      "image/png": "[encoded data removed]",
      "text/plain": [
       "<Figure size 1500x500 with 2 Axes>"
      ]
     },
     "metadata": {},
     "output_type": "display_data"
    },
    {
     "name": "stdout",
     "output_type": "stream",
     "text": [
      "\n",
      "Training completed!\n",
      "Best validation accuracy: 78.42%\n",
      "Test accuracy: 78.60%\n"
     ]
    }
   ],
   "source": [
    "if __name__ == \"__main__\":\n",
    "    main()"
   ]
  },
  {
   "cell_type": "code",
   "execution_count": null,
   "id": "cf4968cf",
   "metadata": {},
   "outputs": [],
   "source": []
  }
 ],
 "metadata": {
  "kernelspec": {
   "display_name": "beethoven",
   "language": "python",
   "name": "python3"
  },
  "language_info": {
   "codemirror_mode": {
    "name": "ipython",
    "version": 3
   },
   "file_extension": ".py",
   "mimetype": "text/x-python",
   "name": "python",
   "nbconvert_exporter": "python",
   "pygments_lexer": "ipython3",
   "version": "3.11.9"
  }
 },
 "nbformat": 4,
 "nbformat_minor": 5
}
